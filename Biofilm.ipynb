{
 "cells": [
  {
   "cell_type": "markdown",
   "metadata": {},
   "source": [
    "# Biofilm Inhibitory Peptides\n",
    "\n",
    "Research article: https://pubs.acs.org/doi/10.1021/acsomega.9b04119\n",
    "\n",
    "Supporting Link: https://pubs.acs.org/doi/suppl/10.1021/acsomega.9b04119/suppl_file/ao9b04119_si_001.pdf\n",
    "\n",
    "### Issues\n",
    "* Positive and negative datasets are not available, links not working\n",
    "* Dataset cannot be replicated due to unavailable raw data, raw data doesn't match\n",
    "\n",
    "#### Dataset Links\n",
    "* Antimicrobial Peptide Database (APD) Information: http://aps.unmc.edu/AP/\n",
    "* APD Dataset: http://aps.unmc.edu/AP/APD3_update2020_release.fasta\n",
    "* dPABBs: http://ab-openlab.csir.res.in/abp/antibiofilm/down.php\n",
    "* Biofilm-active AMPs database: http://www.baamps.it/browse\n"
   ]
  }
 ],
 "metadata": {
  "kernelspec": {
   "display_name": "Python 3",
   "language": "python",
   "name": "python3"
  },
  "language_info": {
   "codemirror_mode": {
    "name": "ipython",
    "version": 3
   },
   "file_extension": ".py",
   "mimetype": "text/x-python",
   "name": "python",
   "nbconvert_exporter": "python",
   "pygments_lexer": "ipython3",
   "version": "3.7.3"
  }
 },
 "nbformat": 4,
 "nbformat_minor": 4
}
