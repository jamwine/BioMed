{
 "cells": [
  {
   "cell_type": "markdown",
   "metadata": {},
   "source": [
    "# Pymatgen\n",
    "* Source Code: https://pymatgen.org/_modules/pymatgen/core/structure.html\n",
    "* Docs: https://pymatgen.org/introduction.html\n"
   ]
  },
  {
   "cell_type": "code",
   "execution_count": 1,
   "metadata": {},
   "outputs": [],
   "source": [
    "import pymatgen\n",
    "from pymatgen import Lattice, Structure, Molecule"
   ]
  },
  {
   "cell_type": "markdown",
   "metadata": {},
   "source": [
    "### Loading .cif file in parser to obtain Structure"
   ]
  },
  {
   "cell_type": "code",
   "execution_count": 2,
   "metadata": {},
   "outputs": [],
   "source": [
    "from pymatgen.io.cif import CifParser\n",
    "parser = CifParser(\"Si_mp-149_computed.cif\")\n",
    "structure = parser.get_structures()[0]"
   ]
  },
  {
   "cell_type": "code",
   "execution_count": 3,
   "metadata": {},
   "outputs": [
    {
     "data": {
      "text/plain": [
       "Structure Summary\n",
       "Lattice\n",
       "    abc : 3.86697465 3.8669746499999995 3.8669746499999995\n",
       " angles : 60.00000000000001 60.00000000000001 60.00000000000001\n",
       " volume : 40.88829274510335\n",
       "      A : 1.1162994275634794 3.1573715802591895 1.9334873250000004\n",
       "      B : 1.1162994275634794 3.1573715802591895 -1.9334873249999995\n",
       "      C : -2.2325988551269584 3.1573715802591895 -0.0\n",
       "PeriodicSite: Si (0.0000, 7.1041, 0.0000) [0.7500, 0.7500, 0.7500]\n",
       "PeriodicSite: Si (0.0000, 0.0000, 0.0000) [0.0000, 0.0000, 0.0000]"
      ]
     },
     "execution_count": 3,
     "metadata": {},
     "output_type": "execute_result"
    }
   ],
   "source": [
    "structure"
   ]
  },
  {
   "cell_type": "markdown",
   "metadata": {},
   "source": [
    "### Covalent Radii"
   ]
  },
  {
   "cell_type": "code",
   "execution_count": 2,
   "metadata": {},
   "outputs": [],
   "source": [
    "covalent_radii= '''\n",
    "H 0.23 V 1.33 Rh 1.45 Ho 1.74 Ac 1.88\n",
    "He 0.93 Cr 1.35 Pd 1.5 Er 1.73 Th 1.79\n",
    "Li 0.68 Mn 1.35 Ag 1.59 Tm 1.72 Pa 1.61\n",
    "Be 0.35 Fe 1.34 Cd 1.69 Yb 1.94 U 1.58\n",
    "B 0.83 Co 1.33 In 1.63 Lu 1.72 Np 1.55\n",
    "C 0.68 Ni 1.5 Sn 1.46 Hf 1.57 Pu 1.53\n",
    "N 0.68 Cu 1.52 Sb 1.46 Ta 1.43 Am 1.51\n",
    "O 0.68 Zn 1.45 Te 1.47 W 1.37 Cm 1.5\n",
    "F 0.64 Ga 1.22 I 1.4 Re 1.35 Bk 1.5\n",
    "Ne 1.12 Ge 1.17 Xe 1.98 Os 1.37 Cf 1.5\n",
    "Na 0.97 As 1.21 Cs 1.67 Ir 1.32 Es 1.5\n",
    "Mg 1.1 Se 1.22 Ba 1.34 Pt 1.5 Fm 1.5\n",
    "Al 1.35 Br 1.21 La 1.87 Au 1.5 Md 1.5\n",
    "Si 1.2 Kr 1.91 Ce 1.83 Hg 1.7 No 1.5\n",
    "P 0.75 Rb 1.47 Pr 1.82 Tl 1.55 Lr 1.5\n",
    "S 1.02 Sr 1.12 Nd 1.81 Pb 1.54 Rf 1.6\n",
    "Cl 0.99 Y 1.78 Pm 1.8 Bi 1.54 Db 1.6\n",
    "Ar 1.57 Zr 1.56 Sm 1.8 Po 1.68 Sg 1.6\n",
    "K 1.33 Nb 1.48 Eu 1.99 At 1.7 Bh 1.6\n",
    "Ca 0.99 Mo 1.47 Gd 1.79 Rn 2.4 Hs 1.6\n",
    "Sc 1.44 Tc 1.35 Tb 1.76 Fr 2 Mt 1.6\n",
    "Ti 1.47 Ru 1.4 Dy 1.75 Ra 1.9 \n",
    "'''\n",
    "covalent_radii=covalent_radii.split('\\n')[1:-1]"
   ]
  },
  {
   "cell_type": "code",
   "execution_count": 3,
   "metadata": {
    "scrolled": false
   },
   "outputs": [
    {
     "data": {
      "text/plain": [
       "{'H': 0.23,\n",
       " 'V': 1.33,\n",
       " 'Rh': 1.45,\n",
       " 'Ho': 1.74,\n",
       " 'Ac': 1.88,\n",
       " 'He': 0.93,\n",
       " 'Cr': 1.35,\n",
       " 'Pd': 1.5,\n",
       " 'Er': 1.73,\n",
       " 'Th': 1.79,\n",
       " 'Li': 0.68,\n",
       " 'Mn': 1.35,\n",
       " 'Ag': 1.59,\n",
       " 'Tm': 1.72,\n",
       " 'Pa': 1.61,\n",
       " 'Be': 0.35,\n",
       " 'Fe': 1.34,\n",
       " 'Cd': 1.69,\n",
       " 'Yb': 1.94,\n",
       " 'U': 1.58,\n",
       " 'B': 0.83,\n",
       " 'Co': 1.33,\n",
       " 'In': 1.63,\n",
       " 'Lu': 1.72,\n",
       " 'Np': 1.55,\n",
       " 'C': 0.68,\n",
       " 'Ni': 1.5,\n",
       " 'Sn': 1.46,\n",
       " 'Hf': 1.57,\n",
       " 'Pu': 1.53,\n",
       " 'N': 0.68,\n",
       " 'Cu': 1.52,\n",
       " 'Sb': 1.46,\n",
       " 'Ta': 1.43,\n",
       " 'Am': 1.51,\n",
       " 'O': 0.68,\n",
       " 'Zn': 1.45,\n",
       " 'Te': 1.47,\n",
       " 'W': 1.37,\n",
       " 'Cm': 1.5,\n",
       " 'F': 0.64,\n",
       " 'Ga': 1.22,\n",
       " 'I': 1.4,\n",
       " 'Re': 1.35,\n",
       " 'Bk': 1.5,\n",
       " 'Ne': 1.12,\n",
       " 'Ge': 1.17,\n",
       " 'Xe': 1.98,\n",
       " 'Os': 1.37,\n",
       " 'Cf': 1.5,\n",
       " 'Na': 0.97,\n",
       " 'As': 1.21,\n",
       " 'Cs': 1.67,\n",
       " 'Ir': 1.32,\n",
       " 'Es': 1.5,\n",
       " 'Mg': 1.1,\n",
       " 'Se': 1.22,\n",
       " 'Ba': 1.34,\n",
       " 'Pt': 1.5,\n",
       " 'Fm': 1.5,\n",
       " 'Al': 1.35,\n",
       " 'Br': 1.21,\n",
       " 'La': 1.87,\n",
       " 'Au': 1.5,\n",
       " 'Md': 1.5,\n",
       " 'Si': 1.2,\n",
       " 'Kr': 1.91,\n",
       " 'Ce': 1.83,\n",
       " 'Hg': 1.7,\n",
       " 'No': 1.5,\n",
       " 'P': 0.75,\n",
       " 'Rb': 1.47,\n",
       " 'Pr': 1.82,\n",
       " 'Tl': 1.55,\n",
       " 'Lr': 1.5,\n",
       " 'S': 1.02,\n",
       " 'Sr': 1.12,\n",
       " 'Nd': 1.81,\n",
       " 'Pb': 1.54,\n",
       " 'Rf': 1.6,\n",
       " 'Cl': 0.99,\n",
       " 'Y': 1.78,\n",
       " 'Pm': 1.8,\n",
       " 'Bi': 1.54,\n",
       " 'Db': 1.6,\n",
       " 'Ar': 1.57,\n",
       " 'Zr': 1.56,\n",
       " 'Sm': 1.8,\n",
       " 'Po': 1.68,\n",
       " 'Sg': 1.6,\n",
       " 'K': 1.33,\n",
       " 'Nb': 1.48,\n",
       " 'Eu': 1.99,\n",
       " 'At': 1.7,\n",
       " 'Bh': 1.6,\n",
       " 'Ca': 0.99,\n",
       " 'Mo': 1.47,\n",
       " 'Gd': 1.79,\n",
       " 'Rn': 2.4,\n",
       " 'Hs': 1.6,\n",
       " 'Sc': 1.44,\n",
       " 'Tc': 1.35,\n",
       " 'Tb': 1.76,\n",
       " 'Fr': 2.0,\n",
       " 'Mt': 1.6,\n",
       " 'Ti': 1.47,\n",
       " 'Ru': 1.4,\n",
       " 'Dy': 1.75,\n",
       " 'Ra': 1.9}"
      ]
     },
     "execution_count": 3,
     "metadata": {},
     "output_type": "execute_result"
    }
   ],
   "source": [
    "covalent_dict={}\n",
    "\n",
    "for line in covalent_radii:\n",
    "    line=line.split()\n",
    "    for i in range(0,len(line),2):\n",
    "        covalent_dict[line[i]]=float(line[i+1])\n",
    "\n",
    "covalent_dict"
   ]
  },
  {
   "cell_type": "markdown",
   "metadata": {},
   "source": [
    "### Fetching API Key"
   ]
  },
  {
   "cell_type": "code",
   "execution_count": 4,
   "metadata": {},
   "outputs": [
    {
     "name": "stdout",
     "output_type": "stream",
     "text": [
      "'DwTHn4JkLi01OXhu'\n"
     ]
    }
   ],
   "source": [
    "with open('API.cfg') as f:\n",
    "    print(f.read())"
   ]
  },
  {
   "cell_type": "markdown",
   "metadata": {},
   "source": [
    "### Getting Structure and Properties using material-id"
   ]
  },
  {
   "cell_type": "code",
   "execution_count": 5,
   "metadata": {},
   "outputs": [],
   "source": [
    "from pymatgen import MPRester\n",
    "API_KEY='DwTHn4JkLi01OXhu'\n",
    "\n",
    "with MPRester(API_KEY) as m:\n",
    "\n",
    "    # Structure for material id\n",
    "    structure = m.get_structure_by_material_id(\"mp-978259\")\n",
    "    \n",
    "    # Dos for material id\n",
    "    dos = m.get_dos_by_material_id(\"mp-1234\")\n",
    "\n",
    "    # Bandstructure for material id\n",
    "    bandstructure = m.get_bandstructure_by_material_id(\"mp-1234\")"
   ]
  },
  {
   "cell_type": "code",
   "execution_count": 6,
   "metadata": {},
   "outputs": [
    {
     "data": {
      "text/plain": [
       "Structure Summary\n",
       "Lattice\n",
       "    abc : 8.879388953113947 8.879388953113947 4.586183\n",
       " angles : 90.0 90.0 152.49158300564798\n",
       " volume : 167.01123080329418\n",
       "      A : 2.111139 -8.624769 0.0\n",
       "      B : 2.111139 8.624769 0.0\n",
       "      C : 0.0 0.0 4.586183\n",
       "PeriodicSite: Mg (2.1111, -7.4946, 3.4396) [0.9345, 0.0655, 0.7500]\n",
       "PeriodicSite: Mg (2.1111, -4.0875, 3.4396) [0.7370, 0.2630, 0.7500]\n",
       "PeriodicSite: Mg (2.1111, 4.0875, 1.1465) [0.2630, 0.7370, 0.2500]\n",
       "PeriodicSite: Mg (2.1111, 7.4946, 1.1465) [0.0655, 0.9345, 0.2500]\n",
       "PeriodicSite: As (2.1111, 2.7993, 3.4396) [0.3377, 0.6623, 0.7500]\n",
       "PeriodicSite: As (2.1111, -2.7993, 1.1465) [0.6623, 0.3377, 0.2500]"
      ]
     },
     "execution_count": 6,
     "metadata": {},
     "output_type": "execute_result"
    }
   ],
   "source": [
    "structure"
   ]
  },
  {
   "cell_type": "code",
   "execution_count": 7,
   "metadata": {},
   "outputs": [
    {
     "data": {
      "text/plain": [
       "dict_keys(['@module', '@class', 'efermi', 'structure', 'energies', 'densities', 'pdos', 'atom_dos', 'spd_dos'])"
      ]
     },
     "execution_count": 7,
     "metadata": {},
     "output_type": "execute_result"
    }
   ],
   "source": [
    "dos.as_dict().keys()"
   ]
  },
  {
   "cell_type": "code",
   "execution_count": 8,
   "metadata": {},
   "outputs": [
    {
     "data": {
      "text/plain": [
       "dict_keys(['@module', '@class', 'lattice_rec', 'efermi', 'kpoints', 'branches', 'bands', 'is_metal', 'vbm', 'cbm', 'band_gap', 'labels_dict', 'is_spin_polarized'])"
      ]
     },
     "execution_count": 8,
     "metadata": {},
     "output_type": "execute_result"
    }
   ],
   "source": [
    "bandstructure.as_dict().keys()"
   ]
  },
  {
   "cell_type": "markdown",
   "metadata": {},
   "source": [
    "## Structure Exploration"
   ]
  },
  {
   "cell_type": "code",
   "execution_count": 9,
   "metadata": {},
   "outputs": [
    {
     "data": {
      "text/plain": [
       "'Mg4 As2'"
      ]
     },
     "execution_count": 9,
     "metadata": {},
     "output_type": "execute_result"
    }
   ],
   "source": [
    "structure.formula"
   ]
  },
  {
   "cell_type": "code",
   "execution_count": 10,
   "metadata": {},
   "outputs": [
    {
     "data": {
      "text/plain": [
       "[PeriodicSite: Mg (2.1111, -7.4946, 3.4396) [0.9345, 0.0655, 0.7500],\n",
       " PeriodicSite: Mg (2.1111, -4.0875, 3.4396) [0.7370, 0.2630, 0.7500],\n",
       " PeriodicSite: Mg (2.1111, 4.0875, 1.1465) [0.2630, 0.7370, 0.2500],\n",
       " PeriodicSite: Mg (2.1111, 7.4946, 1.1465) [0.0655, 0.9345, 0.2500],\n",
       " PeriodicSite: As (2.1111, 2.7993, 3.4396) [0.3377, 0.6623, 0.7500],\n",
       " PeriodicSite: As (2.1111, -2.7993, 1.1465) [0.6623, 0.3377, 0.2500]]"
      ]
     },
     "execution_count": 10,
     "metadata": {},
     "output_type": "execute_result"
    }
   ],
   "source": [
    "all_sites=structure.sites\n",
    "all_sites"
   ]
  },
  {
   "cell_type": "code",
   "execution_count": 11,
   "metadata": {},
   "outputs": [
    {
     "data": {
      "text/plain": [
       "6"
      ]
     },
     "execution_count": 11,
     "metadata": {},
     "output_type": "execute_result"
    }
   ],
   "source": [
    "structure.num_sites"
   ]
  },
  {
   "cell_type": "markdown",
   "metadata": {},
   "source": [
    "### Fetching Unique Elements"
   ]
  },
  {
   "cell_type": "code",
   "execution_count": 12,
   "metadata": {},
   "outputs": [
    {
     "data": {
      "text/plain": [
       "{'As', 'Mg'}"
      ]
     },
     "execution_count": 12,
     "metadata": {},
     "output_type": "execute_result"
    }
   ],
   "source": [
    "unique_sites=set()\n",
    "for site in all_sites:\n",
    "    unique_sites.add(site.species_string)\n",
    "unique_sites"
   ]
  },
  {
   "cell_type": "code",
   "execution_count": 13,
   "metadata": {},
   "outputs": [],
   "source": [
    "# structure.symbol_set"
   ]
  },
  {
   "cell_type": "markdown",
   "metadata": {},
   "source": [
    "### Calculating Sum of Covalent Radii "
   ]
  },
  {
   "cell_type": "code",
   "execution_count": 14,
   "metadata": {},
   "outputs": [
    {
     "name": "stdout",
     "output_type": "stream",
     "text": [
      "As 1.21\n",
      "Mg 1.1\n"
     ]
    },
    {
     "data": {
      "text/plain": [
       "2.31"
      ]
     },
     "execution_count": 14,
     "metadata": {},
     "output_type": "execute_result"
    }
   ],
   "source": [
    "covalent_sum=0\n",
    "for site in unique_sites:\n",
    "    print(site,covalent_dict.get(site))\n",
    "    covalent_sum+=covalent_dict.get(site)\n",
    "    \n",
    "covalent_sum"
   ]
  },
  {
   "cell_type": "markdown",
   "metadata": {},
   "source": [
    "### Distance Matrix"
   ]
  },
  {
   "cell_type": "code",
   "execution_count": 15,
   "metadata": {},
   "outputs": [
    {
     "name": "stdout",
     "output_type": "stream",
     "text": [
      "[[0.         3.4071115  4.29665941 3.21980062 2.69126683 5.01552006]\n",
      " [3.4071115  0.         3.1491957  4.29665941 2.73449678 2.63018053]\n",
      " [4.29665941 3.1491957  0.         3.4071115  2.63018053 2.73449678]\n",
      " [3.21980062 4.29665941 3.4071115  0.         5.01552006 2.69126683]\n",
      " [2.69126683 2.73449678 2.63018053 5.01552006 0.         4.34433089]\n",
      " [5.01552006 2.63018053 2.73449678 2.69126683 4.34433089 0.        ]]\n"
     ]
    }
   ],
   "source": [
    "import numpy as np\n",
    "\n",
    "distance_matrix=[]\n",
    "for i in all_sites:\n",
    "    current=[]\n",
    "    for j in all_sites:\n",
    "        current.append(i.distance(j))\n",
    "    distance_matrix.append(current)\n",
    "\n",
    "distance_matrix = np.reshape(distance_matrix,(len(all_sites),len(all_sites)))\n",
    "print(distance_matrix)"
   ]
  },
  {
   "cell_type": "code",
   "execution_count": 22,
   "metadata": {},
   "outputs": [
    {
     "name": "stdout",
     "output_type": "stream",
     "text": [
      "[[-2.7         0.7071115   1.59665941  0.51980062 -0.00873317  2.31552006]\n",
      " [ 0.7071115  -2.7         0.4491957   1.59665941  0.03449678 -0.06981947]\n",
      " [ 1.59665941  0.4491957  -2.7         0.7071115  -0.06981947  0.03449678]\n",
      " [ 0.51980062  1.59665941  0.7071115  -2.7         2.31552006 -0.00873317]\n",
      " [-0.00873317  0.03449678 -0.06981947  2.31552006 -2.7         1.64433089]\n",
      " [ 2.31552006 -0.06981947  0.03449678 -0.00873317  1.64433089 -2.7       ]]\n"
     ]
    }
   ],
   "source": [
    "print(distance_matrix-2.7)"
   ]
  },
  {
   "cell_type": "code",
   "execution_count": 29,
   "metadata": {},
   "outputs": [
    {
     "data": {
      "text/plain": [
       "array([[1, 0, 0, 0, 1, 0],\n",
       "       [0, 1, 0, 0, 0, 1],\n",
       "       [0, 0, 1, 0, 1, 0],\n",
       "       [0, 0, 0, 1, 0, 1],\n",
       "       [1, 0, 1, 0, 1, 0],\n",
       "       [0, 1, 0, 1, 0, 1]])"
      ]
     },
     "execution_count": 29,
     "metadata": {},
     "output_type": "execute_result"
    }
   ],
   "source": [
    "((distance_matrix-2.7)<0).astype(int)"
   ]
  },
  {
   "cell_type": "code",
   "execution_count": 34,
   "metadata": {},
   "outputs": [
    {
     "data": {
      "text/plain": [
       "8"
      ]
     },
     "execution_count": 34,
     "metadata": {},
     "output_type": "execute_result"
    }
   ],
   "source": [
    "((distance_matrix-2.7)<0).astype(int).sum()-6"
   ]
  },
  {
   "cell_type": "code",
   "execution_count": 16,
   "metadata": {},
   "outputs": [],
   "source": [
    "# distance_matrix=structure.distance_matrix\n",
    "# print(distance_matrix)"
   ]
  },
  {
   "cell_type": "code",
   "execution_count": 156,
   "metadata": {},
   "outputs": [
    {
     "data": {
      "text/plain": [
       "0.5"
      ]
     },
     "execution_count": 156,
     "metadata": {},
     "output_type": "execute_result"
    }
   ],
   "source": [
    "structure.DISTANCE_TOLERANCE"
   ]
  },
  {
   "cell_type": "code",
   "execution_count": 207,
   "metadata": {},
   "outputs": [
    {
     "data": {
      "text/plain": [
       "Structure Summary\n",
       "Lattice\n",
       "    abc : 8.879388953113947 8.879388953113947 4.586183\n",
       " angles : 90.0 90.0 152.49158300564798\n",
       " volume : 167.01123080329418\n",
       "      A : 2.111139 -8.624769 0.0\n",
       "      B : 2.111139 8.624769 0.0\n",
       "      C : 0.0 0.0 4.586183\n",
       "PeriodicSite: Mg (2.1111, -7.4946, 3.4396) [0.9345, 0.0655, 0.7500]\n",
       "PeriodicSite: Mg (2.1111, -4.0875, 3.4396) [0.7370, 0.2630, 0.7500]\n",
       "PeriodicSite: Mg (2.1111, 4.0875, 1.1465) [0.2630, 0.7370, 0.2500]\n",
       "PeriodicSite: Mg (2.1111, 7.4946, 1.1465) [0.0655, 0.9345, 0.2500]\n",
       "PeriodicSite: As (2.1111, 2.7993, 3.4396) [0.3377, 0.6623, 0.7500]\n",
       "PeriodicSite: As (2.1111, -2.7993, 1.1465) [0.6623, 0.3377, 0.2500]"
      ]
     },
     "execution_count": 207,
     "metadata": {},
     "output_type": "execute_result"
    }
   ],
   "source": [
    "structure"
   ]
  },
  {
   "cell_type": "code",
   "execution_count": null,
   "metadata": {},
   "outputs": [],
   "source": []
  },
  {
   "cell_type": "code",
   "execution_count": null,
   "metadata": {},
   "outputs": [],
   "source": []
  },
  {
   "cell_type": "code",
   "execution_count": 186,
   "metadata": {},
   "outputs": [
    {
     "data": {
      "text/plain": [
       "array([ 2.111139  , -7.49463102,  3.43963725])"
      ]
     },
     "execution_count": 186,
     "metadata": {},
     "output_type": "execute_result"
    }
   ],
   "source": [
    "structure.sites[0].coords"
   ]
  },
  {
   "cell_type": "code",
   "execution_count": 187,
   "metadata": {},
   "outputs": [
    {
     "data": {
      "text/plain": [
       "PeriodicSite: Mg (2.1111, -7.4946, 3.4396) [0.9345, 0.0655, 0.7500]"
      ]
     },
     "execution_count": 187,
     "metadata": {},
     "output_type": "execute_result"
    }
   ],
   "source": [
    "structure.sites[0]"
   ]
  },
  {
   "cell_type": "code",
   "execution_count": 188,
   "metadata": {},
   "outputs": [
    {
     "data": {
      "text/plain": [
       "PeriodicSite: Mg (2.1111, -4.0875, 3.4396) [0.7370, 0.2630, 0.7500]"
      ]
     },
     "execution_count": 188,
     "metadata": {},
     "output_type": "execute_result"
    }
   ],
   "source": [
    "structure.sites[1]"
   ]
  },
  {
   "cell_type": "code",
   "execution_count": 189,
   "metadata": {},
   "outputs": [
    {
     "data": {
      "text/plain": [
       "array([[0.934483, 0.065517, 0.75    ],\n",
       "       [0.736964, 0.263036, 0.75    ],\n",
       "       [0.263036, 0.736964, 0.25    ],\n",
       "       [0.065517, 0.934483, 0.25    ],\n",
       "       [0.337719, 0.662281, 0.75    ],\n",
       "       [0.662281, 0.337719, 0.25    ]])"
      ]
     },
     "execution_count": 189,
     "metadata": {},
     "output_type": "execute_result"
    }
   ],
   "source": [
    "structure.frac_coords"
   ]
  },
  {
   "cell_type": "code",
   "execution_count": 17,
   "metadata": {},
   "outputs": [],
   "source": [
    "structure.make_supercell(2)"
   ]
  },
  {
   "cell_type": "code",
   "execution_count": 18,
   "metadata": {},
   "outputs": [
    {
     "data": {
      "text/plain": [
       "Structure Summary\n",
       "Lattice\n",
       "    abc : 17.758777906227895 17.758777906227895 9.172366\n",
       " angles : 90.0 90.0 152.49158300564798\n",
       " volume : 1336.0898464263535\n",
       "      A : 4.222278 -17.249538 0.0\n",
       "      B : 4.222278 17.249538 0.0\n",
       "      C : 0.0 0.0 9.172366\n",
       "PeriodicSite: Mg (2.1111, -7.4946, 3.4396) [0.4672, 0.0328, 0.3750]\n",
       "PeriodicSite: Mg (2.1111, -7.4946, 8.0258) [0.4672, 0.0328, 0.8750]\n",
       "PeriodicSite: Mg (4.2223, 1.1301, 3.4396) [0.4672, 0.5328, 0.3750]\n",
       "PeriodicSite: Mg (4.2223, 1.1301, 8.0258) [0.4672, 0.5328, 0.8750]\n",
       "PeriodicSite: Mg (4.2223, -16.1194, 3.4396) [0.9672, 0.0328, 0.3750]\n",
       "PeriodicSite: Mg (4.2223, -16.1194, 8.0258) [0.9672, 0.0328, 0.8750]\n",
       "PeriodicSite: Mg (6.3334, -7.4946, 3.4396) [0.9672, 0.5328, 0.3750]\n",
       "PeriodicSite: Mg (6.3334, -7.4946, 8.0258) [0.9672, 0.5328, 0.8750]\n",
       "PeriodicSite: Mg (2.1111, -4.0875, 3.4396) [0.3685, 0.1315, 0.3750]\n",
       "PeriodicSite: Mg (2.1111, -4.0875, 8.0258) [0.3685, 0.1315, 0.8750]\n",
       "PeriodicSite: Mg (4.2223, 4.5372, 3.4396) [0.3685, 0.6315, 0.3750]\n",
       "PeriodicSite: Mg (4.2223, 4.5372, 8.0258) [0.3685, 0.6315, 0.8750]\n",
       "PeriodicSite: Mg (4.2223, -12.7123, 3.4396) [0.8685, 0.1315, 0.3750]\n",
       "PeriodicSite: Mg (4.2223, -12.7123, 8.0258) [0.8685, 0.1315, 0.8750]\n",
       "PeriodicSite: Mg (6.3334, -4.0875, 3.4396) [0.8685, 0.6315, 0.3750]\n",
       "PeriodicSite: Mg (6.3334, -4.0875, 8.0258) [0.8685, 0.6315, 0.8750]\n",
       "PeriodicSite: Mg (2.1111, 4.0875, 1.1465) [0.1315, 0.3685, 0.1250]\n",
       "PeriodicSite: Mg (2.1111, 4.0875, 5.7327) [0.1315, 0.3685, 0.6250]\n",
       "PeriodicSite: Mg (4.2223, 12.7123, 1.1465) [0.1315, 0.8685, 0.1250]\n",
       "PeriodicSite: Mg (4.2223, 12.7123, 5.7327) [0.1315, 0.8685, 0.6250]\n",
       "PeriodicSite: Mg (4.2223, -4.5372, 1.1465) [0.6315, 0.3685, 0.1250]\n",
       "PeriodicSite: Mg (4.2223, -4.5372, 5.7327) [0.6315, 0.3685, 0.6250]\n",
       "PeriodicSite: Mg (6.3334, 4.0875, 1.1465) [0.6315, 0.8685, 0.1250]\n",
       "PeriodicSite: Mg (6.3334, 4.0875, 5.7327) [0.6315, 0.8685, 0.6250]\n",
       "PeriodicSite: Mg (2.1111, 7.4946, 1.1465) [0.0328, 0.4672, 0.1250]\n",
       "PeriodicSite: Mg (2.1111, 7.4946, 5.7327) [0.0328, 0.4672, 0.6250]\n",
       "PeriodicSite: Mg (4.2223, 16.1194, 1.1465) [0.0328, 0.9672, 0.1250]\n",
       "PeriodicSite: Mg (4.2223, 16.1194, 5.7327) [0.0328, 0.9672, 0.6250]\n",
       "PeriodicSite: Mg (4.2223, -1.1301, 1.1465) [0.5328, 0.4672, 0.1250]\n",
       "PeriodicSite: Mg (4.2223, -1.1301, 5.7327) [0.5328, 0.4672, 0.6250]\n",
       "PeriodicSite: Mg (6.3334, 7.4946, 1.1465) [0.5328, 0.9672, 0.1250]\n",
       "PeriodicSite: Mg (6.3334, 7.4946, 5.7327) [0.5328, 0.9672, 0.6250]\n",
       "PeriodicSite: As (2.1111, 2.7993, 3.4396) [0.1689, 0.3311, 0.3750]\n",
       "PeriodicSite: As (2.1111, 2.7993, 8.0258) [0.1689, 0.3311, 0.8750]\n",
       "PeriodicSite: As (4.2223, 11.4240, 3.4396) [0.1689, 0.8311, 0.3750]\n",
       "PeriodicSite: As (4.2223, 11.4240, 8.0258) [0.1689, 0.8311, 0.8750]\n",
       "PeriodicSite: As (4.2223, -5.8255, 3.4396) [0.6689, 0.3311, 0.3750]\n",
       "PeriodicSite: As (4.2223, -5.8255, 8.0258) [0.6689, 0.3311, 0.8750]\n",
       "PeriodicSite: As (6.3334, 2.7993, 3.4396) [0.6689, 0.8311, 0.3750]\n",
       "PeriodicSite: As (6.3334, 2.7993, 8.0258) [0.6689, 0.8311, 0.8750]\n",
       "PeriodicSite: As (2.1111, -2.7993, 1.1465) [0.3311, 0.1689, 0.1250]\n",
       "PeriodicSite: As (2.1111, -2.7993, 5.7327) [0.3311, 0.1689, 0.6250]\n",
       "PeriodicSite: As (4.2223, 5.8255, 1.1465) [0.3311, 0.6689, 0.1250]\n",
       "PeriodicSite: As (4.2223, 5.8255, 5.7327) [0.3311, 0.6689, 0.6250]\n",
       "PeriodicSite: As (4.2223, -11.4240, 1.1465) [0.8311, 0.1689, 0.1250]\n",
       "PeriodicSite: As (4.2223, -11.4240, 5.7327) [0.8311, 0.1689, 0.6250]\n",
       "PeriodicSite: As (6.3334, -2.7993, 1.1465) [0.8311, 0.6689, 0.1250]\n",
       "PeriodicSite: As (6.3334, -2.7993, 5.7327) [0.8311, 0.6689, 0.6250]"
      ]
     },
     "execution_count": 18,
     "metadata": {},
     "output_type": "execute_result"
    }
   ],
   "source": [
    "structure"
   ]
  },
  {
   "cell_type": "code",
   "execution_count": 31,
   "metadata": {},
   "outputs": [
    {
     "data": {
      "text/plain": [
       "48"
      ]
     },
     "execution_count": 31,
     "metadata": {},
     "output_type": "execute_result"
    }
   ],
   "source": [
    "len(structure.sites)"
   ]
  },
  {
   "cell_type": "code",
   "execution_count": null,
   "metadata": {},
   "outputs": [],
   "source": [
    "structure."
   ]
  }
 ],
 "metadata": {
  "kernelspec": {
   "display_name": "Python 3",
   "language": "python",
   "name": "python3"
  },
  "language_info": {
   "codemirror_mode": {
    "name": "ipython",
    "version": 3
   },
   "file_extension": ".py",
   "mimetype": "text/x-python",
   "name": "python",
   "nbconvert_exporter": "python",
   "pygments_lexer": "ipython3",
   "version": "3.7.3"
  }
 },
 "nbformat": 4,
 "nbformat_minor": 4
}
