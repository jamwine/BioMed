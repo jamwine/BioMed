{
 "cells": [
  {
   "cell_type": "markdown",
   "metadata": {},
   "source": [
    "# 2D Materials Database Summary\n",
    "(Research article: https://arxiv.org/ftp/arxiv/papers/1901/1901.09487.pdf)\n",
    "\n",
    "**2DMatPedia** or *2D Materials Encyclopedia* is a dataset of 2D materials, with more than 6,000 monolayer structures, obtained from both top‐down and bottom‐up discovery procedures by:\n",
    "* Screening all bulk materials in the database of Materials Project for layered structures using a topology‐based algorithm, and theoretically exfoliate them into monolayers. \n",
    "* Generating new 2D materials by chemical substitution of elements in known 2D materials by others from the same group in the periodic table. \n",
    "* Calculating the structural, electronic and energetic properties consistently, to provide a starting point for further material screening, data mining, data analysis and artificial intelligence applications.\n",
    "\n",
    "## Methods\n",
    "The methodology applied includes two parts: *discovery processes* to generate 2D structures and *high-throughput density functional calculations* of properties of the 2D materials.\n",
    "### Discovery processes\n",
    "The two approaches used are a **top‐down approach**, in which materials from the inorganic bulk crystals in the Materials Project are screened for layered structures which are then theoretically exfoliated to 2D monolayers, and a **bottom‐up approach**, in which elemental substitution is systematically applied to the unary and binary 2D materials obtained from top‐down approach. \n",
    "\n",
    "#### Top‐down approach\n",
    "A geometry‐based algorithm hs been used to identify layered structures among these compounds by the following steps:  \n",
    "1. Standard conventional unit cell was used for all the compounds.\n",
    "2. Check whether two atoms in the unit cell are bonded or not. Use the sum of the covalent radii 35 of two elements with a small tolerance as a threshold. If the distance of two atoms is smaller than the threshold, they are considered boned. Otherwise, they are not bonded.\n",
    "3. Atoms that are bonded together form a cluster. The number of clusters in the unit cell is counted.  \n",
    "4. From the unit cell, a 3×3×3 supercell is generated and the number of clusters in the supercell is counted again. If the number of clusters in the supercell is three times of that in the unit cell, the structure was tagged as layered.  \n",
    "5. A set of tolerances (0.0, 0.05, 0.1, 0.15, 0.2, 0.25, 0.3, 0.35, and 0.4) was used and only the structures identified as layered by at least two tolerances are kept.\n",
    "6. 2D materials were theoretically exfoliated by extracting one cluster in the standard conventional unit cell of the layered structures screened in the above step. A larger than 20Å vacuum along c axis was imposed to minimize the interactions of image slabs by periodic condition.\n",
    "\n",
    "#### Bottom‐up approach\n",
    "1. All the elements of the periodic table (from H to Bi) are categorized in different groups according to their column number. Radioactive elements, lanthanide and actinide with f electrons are excluded except La which is included in group 3 elements.  \n",
    "2. Systematically replace each element in a known 2D material by one other element in the same category. For instance, 24 new materials can be generated from BN by replacing B with [B, Al, Ga, In, Tl] and N with [N, P, As, Sb, Bi] systematically. \n",
    "\n",
    "### Workflow\n",
    "\n",
    "![2dmat.png](2dmat.png)\n",
    "\n",
    "* started from the > 80000 inorganic compounds in Materials Project database. \n",
    "* focused on elemental, binary, ternary and quaternary compounds in the initial stage (ignored structures with more than 40 atoms in the primitive unit cell)\n",
    "* top‐down approach was applied to screen the database for layered structures and generate 2D materials. Structure matching tools from pymatgen were used to remove duplicates in the exfoliated 2D materials. \n",
    "* High‐throughput calculations, adopting the same standards set by the Materials project, were carried out to optimize the structures, and perform static, density of states (DOS) and band structure calculations for these 2D materials. \n",
    "* The calculated properties are stored in 2DMatPedia. The unary and binary 2D materials obtained from the top‐down approach were then used as initial structures for elemental substitution. \n",
    "* Structure matching was applied again to these 2D materials obtained through this bottom‐up approach to ensure that only unique structures are included for further high‐throughput density functional theory (DFT) calculations.   \n",
    "\n",
    "#### Resources\n",
    "* pymatgen/4.7.3 https://github.com/materialsproject\n",
    "* atomate/0.5.1 https://github.com/hackingmaterials\n",
    "* Web interface http://www.2dmatpedia.org/\n",
    "* JARVIS DFT https://www.ctcms.nist.gov/~knc6/JVASP.html\n",
    "* JARVIS-Tools https://github.com/usnistgov/jarvis\n",
    "\n",
    "## Exploring Dataset\n",
    "The dataset presents a large collection of more than 6000 2D materials with consistently calculated structural, energetic and electronic properties. Currently, the database includes unary and binary bottom‐up 2D compounds by systematically elemental substitution. "
   ]
  },
  {
   "cell_type": "code",
   "execution_count": 24,
   "metadata": {},
   "outputs": [
    {
     "name": "stdout",
     "output_type": "stream",
     "text": [
      "Found 6351 materials\n"
     ]
    }
   ],
   "source": [
    "import json\n",
    "\n",
    "materials=[]\n",
    "with open('db.json', 'r') as file:\n",
    "    for line in file:\n",
    "        materials.append(json.loads(line))\n",
    "\n",
    "print(\"Found %s materials\" % len(materials))"
   ]
  },
  {
   "cell_type": "code",
   "execution_count": 25,
   "metadata": {},
   "outputs": [],
   "source": [
    "import pandas as pd\n",
    "import matplotlib\n",
    "%matplotlib inline\n",
    "\n",
    "materials_df = pd.DataFrame.from_dict(materials)\n",
    "materials_df.set_index('material_id', inplace=True)"
   ]
  },
  {
   "cell_type": "code",
   "execution_count": 27,
   "metadata": {},
   "outputs": [],
   "source": [
    "# drop unnecessary columns\n",
    "for col in ['_id','_tasksbuilder','created_at']:\n",
    "    if col in materials_df.columns:\n",
    "        materials_df.drop(col, axis=1, inplace=True)"
   ]
  },
  {
   "cell_type": "code",
   "execution_count": 28,
   "metadata": {},
   "outputs": [],
   "source": [
    "# expand dictionaries in cells\n",
    "for dict_column in ['bandstructure', 'calc_settings', 'spacegroup', 'thermo']:\n",
    "    if dict_column in materials_df.columns:\n",
    "        materials_df=materials_df.join(materials_df[dict_column].apply(pd.Series),lsuffix='_orig')\n",
    "        materials_df.drop([dict_column], axis=1, inplace=True)"
   ]
  },
  {
   "cell_type": "code",
   "execution_count": 29,
   "metadata": {},
   "outputs": [],
   "source": [
    "# materials_df.to_csv('2dmatpedia.csv',index=True)"
   ]
  },
  {
   "cell_type": "code",
   "execution_count": 30,
   "metadata": {},
   "outputs": [
    {
     "data": {
      "text/html": [
       "<div>\n",
       "<style scoped>\n",
       "    .dataframe tbody tr th:only-of-type {\n",
       "        vertical-align: middle;\n",
       "    }\n",
       "\n",
       "    .dataframe tbody tr th {\n",
       "        vertical-align: top;\n",
       "    }\n",
       "\n",
       "    .dataframe thead th {\n",
       "        text-align: right;\n",
       "    }\n",
       "</style>\n",
       "<table border=\"1\" class=\"dataframe\">\n",
       "  <thead>\n",
       "    <tr style=\"text-align: right;\">\n",
       "      <th></th>\n",
       "      <th>sg_number</th>\n",
       "      <th>formula_pretty</th>\n",
       "      <th>nelements</th>\n",
       "      <th>creation_task_label</th>\n",
       "      <th>chemsys</th>\n",
       "      <th>discovery_process</th>\n",
       "      <th>formula_reduced_abc</th>\n",
       "      <th>sg_symbol</th>\n",
       "      <th>formula_anonymous</th>\n",
       "      <th>source_id</th>\n",
       "      <th>...</th>\n",
       "      <th>symbol</th>\n",
       "      <th>number</th>\n",
       "      <th>point_group</th>\n",
       "      <th>source</th>\n",
       "      <th>crystal_system</th>\n",
       "      <th>hall</th>\n",
       "      <th>energy_vdw</th>\n",
       "      <th>energy_vdw_per_atom</th>\n",
       "      <th>energy</th>\n",
       "      <th>energy_per_atom</th>\n",
       "    </tr>\n",
       "    <tr>\n",
       "      <th>material_id</th>\n",
       "      <th></th>\n",
       "      <th></th>\n",
       "      <th></th>\n",
       "      <th></th>\n",
       "      <th></th>\n",
       "      <th></th>\n",
       "      <th></th>\n",
       "      <th></th>\n",
       "      <th></th>\n",
       "      <th></th>\n",
       "      <th></th>\n",
       "      <th></th>\n",
       "      <th></th>\n",
       "      <th></th>\n",
       "      <th></th>\n",
       "      <th></th>\n",
       "      <th></th>\n",
       "      <th></th>\n",
       "      <th></th>\n",
       "      <th></th>\n",
       "      <th></th>\n",
       "    </tr>\n",
       "  </thead>\n",
       "  <tbody>\n",
       "    <tr>\n",
       "      <th>2dm-1</th>\n",
       "      <td>164</td>\n",
       "      <td>IrF2</td>\n",
       "      <td>2</td>\n",
       "      <td>mp-30033_sub_round2highcri2-relax</td>\n",
       "      <td>F-Ir</td>\n",
       "      <td>bottom-up</td>\n",
       "      <td>F2 Ir1</td>\n",
       "      <td>P-3m1</td>\n",
       "      <td>AB2</td>\n",
       "      <td>mp-30033</td>\n",
       "      <td>...</td>\n",
       "      <td>P-3m1</td>\n",
       "      <td>164</td>\n",
       "      <td>-3m</td>\n",
       "      <td>spglib</td>\n",
       "      <td>trigonal</td>\n",
       "      <td>-P 3 2\"</td>\n",
       "      <td>-10.085057</td>\n",
       "      <td>-3.361686</td>\n",
       "      <td>-13.610467</td>\n",
       "      <td>-4.536822</td>\n",
       "    </tr>\n",
       "    <tr>\n",
       "      <th>2dm-2</th>\n",
       "      <td>164</td>\n",
       "      <td>Ba2Sb</td>\n",
       "      <td>2</td>\n",
       "      <td>mp-1245_sub_round2highcri2-static</td>\n",
       "      <td>Ba-Sb</td>\n",
       "      <td>bottom-up</td>\n",
       "      <td>Ba2 Sb1</td>\n",
       "      <td>P-3m1</td>\n",
       "      <td>AB2</td>\n",
       "      <td>mp-1245</td>\n",
       "      <td>...</td>\n",
       "      <td>P-3m1</td>\n",
       "      <td>164</td>\n",
       "      <td>-3m</td>\n",
       "      <td>spglib</td>\n",
       "      <td>trigonal</td>\n",
       "      <td>-P 3 2\"</td>\n",
       "      <td>-6.560988</td>\n",
       "      <td>-2.186996</td>\n",
       "      <td>-9.731382</td>\n",
       "      <td>-3.243794</td>\n",
       "    </tr>\n",
       "    <tr>\n",
       "      <th>2dm-3</th>\n",
       "      <td>2</td>\n",
       "      <td>TlS</td>\n",
       "      <td>2</td>\n",
       "      <td>mp-542812_sub_round2highcri2-relax</td>\n",
       "      <td>S-Tl</td>\n",
       "      <td>bottom-up</td>\n",
       "      <td>S1 Tl1</td>\n",
       "      <td>P-1</td>\n",
       "      <td>AB</td>\n",
       "      <td>mp-542812</td>\n",
       "      <td>...</td>\n",
       "      <td>P-1</td>\n",
       "      <td>2</td>\n",
       "      <td>-1</td>\n",
       "      <td>spglib</td>\n",
       "      <td>triclinic</td>\n",
       "      <td>-P 1</td>\n",
       "      <td>-26.777203</td>\n",
       "      <td>-2.231434</td>\n",
       "      <td>-39.908074</td>\n",
       "      <td>-3.325673</td>\n",
       "    </tr>\n",
       "    <tr>\n",
       "      <th>2dm-4</th>\n",
       "      <td>166</td>\n",
       "      <td>MoCl2</td>\n",
       "      <td>2</td>\n",
       "      <td>mp-554340_sub_round2highcri2-static</td>\n",
       "      <td>Cl-Mo</td>\n",
       "      <td>bottom-up</td>\n",
       "      <td>Cl2 Mo1</td>\n",
       "      <td>R-3m</td>\n",
       "      <td>AB2</td>\n",
       "      <td>mp-554340</td>\n",
       "      <td>...</td>\n",
       "      <td>R-3m</td>\n",
       "      <td>166</td>\n",
       "      <td>2/m</td>\n",
       "      <td>spglib</td>\n",
       "      <td>trigonal</td>\n",
       "      <td>-R 3 2\"</td>\n",
       "      <td>-26.818245</td>\n",
       "      <td>-4.469708</td>\n",
       "      <td>-31.765686</td>\n",
       "      <td>-5.294281</td>\n",
       "    </tr>\n",
       "    <tr>\n",
       "      <th>2dm-6367</th>\n",
       "      <td>164</td>\n",
       "      <td>IrO2</td>\n",
       "      <td>2</td>\n",
       "      <td>mvc-12841_sub_round2highcri2-static</td>\n",
       "      <td>Ir-O</td>\n",
       "      <td>bottom-up</td>\n",
       "      <td>Ir1 O2</td>\n",
       "      <td>P-3m1</td>\n",
       "      <td>AB2</td>\n",
       "      <td>mvc-12841</td>\n",
       "      <td>...</td>\n",
       "      <td>P-3m1</td>\n",
       "      <td>164</td>\n",
       "      <td>-3m</td>\n",
       "      <td>spglib</td>\n",
       "      <td>trigonal</td>\n",
       "      <td>-P 3 2\"</td>\n",
       "      <td>-17.507867</td>\n",
       "      <td>-5.835956</td>\n",
       "      <td>-20.398991</td>\n",
       "      <td>-6.799664</td>\n",
       "    </tr>\n",
       "  </tbody>\n",
       "</table>\n",
       "<p>5 rows × 39 columns</p>\n",
       "</div>"
      ],
      "text/plain": [
       "             sg_number formula_pretty  nelements  \\\n",
       "material_id                                        \n",
       "2dm-1              164           IrF2          2   \n",
       "2dm-2              164          Ba2Sb          2   \n",
       "2dm-3                2            TlS          2   \n",
       "2dm-4              166          MoCl2          2   \n",
       "2dm-6367           164           IrO2          2   \n",
       "\n",
       "                             creation_task_label chemsys discovery_process  \\\n",
       "material_id                                                                  \n",
       "2dm-1          mp-30033_sub_round2highcri2-relax    F-Ir         bottom-up   \n",
       "2dm-2          mp-1245_sub_round2highcri2-static   Ba-Sb         bottom-up   \n",
       "2dm-3         mp-542812_sub_round2highcri2-relax    S-Tl         bottom-up   \n",
       "2dm-4        mp-554340_sub_round2highcri2-static   Cl-Mo         bottom-up   \n",
       "2dm-6367     mvc-12841_sub_round2highcri2-static    Ir-O         bottom-up   \n",
       "\n",
       "            formula_reduced_abc sg_symbol formula_anonymous  source_id  ...  \\\n",
       "material_id                                                             ...   \n",
       "2dm-1                    F2 Ir1     P-3m1               AB2   mp-30033  ...   \n",
       "2dm-2                   Ba2 Sb1     P-3m1               AB2    mp-1245  ...   \n",
       "2dm-3                    S1 Tl1       P-1                AB  mp-542812  ...   \n",
       "2dm-4                   Cl2 Mo1      R-3m               AB2  mp-554340  ...   \n",
       "2dm-6367                 Ir1 O2     P-3m1               AB2  mvc-12841  ...   \n",
       "\n",
       "            symbol number  point_group  source crystal_system     hall  \\\n",
       "material_id                                                              \n",
       "2dm-1        P-3m1    164          -3m  spglib       trigonal  -P 3 2\"   \n",
       "2dm-2        P-3m1    164          -3m  spglib       trigonal  -P 3 2\"   \n",
       "2dm-3          P-1      2           -1  spglib      triclinic     -P 1   \n",
       "2dm-4         R-3m    166          2/m  spglib       trigonal  -R 3 2\"   \n",
       "2dm-6367     P-3m1    164          -3m  spglib       trigonal  -P 3 2\"   \n",
       "\n",
       "             energy_vdw energy_vdw_per_atom     energy  energy_per_atom  \n",
       "material_id                                                              \n",
       "2dm-1        -10.085057           -3.361686 -13.610467        -4.536822  \n",
       "2dm-2         -6.560988           -2.186996  -9.731382        -3.243794  \n",
       "2dm-3        -26.777203           -2.231434 -39.908074        -3.325673  \n",
       "2dm-4        -26.818245           -4.469708 -31.765686        -5.294281  \n",
       "2dm-6367     -17.507867           -5.835956 -20.398991        -6.799664  \n",
       "\n",
       "[5 rows x 39 columns]"
      ]
     },
     "execution_count": 30,
     "metadata": {},
     "output_type": "execute_result"
    }
   ],
   "source": [
    "materials_df.head()"
   ]
  },
  {
   "cell_type": "code",
   "execution_count": null,
   "metadata": {},
   "outputs": [],
   "source": [
    "# Columns of Dataset\n",
    "print(materials_df.columns.tolist())"
   ]
  },
  {
   "cell_type": "markdown",
   "metadata": {},
   "source": [
    "#### Key Datatype Description\n",
    "* **material_id:** IDs for entries in the 2Dmatpedia\n",
    "* **relative_id:** IDs for where a 2D material is obtained from\n",
    "* **discovery_process:** How a 2D materials is generated\n",
    "* **structure:** Relaxed crystal structure represented in dictionary\n",
    "* **formula:** Chemical formula\n",
    "* **nelements:** string Number of elements in this material\n",
    "* **elements:** List of elements in this material\n",
    "* **spacegroup:** Space group number defined by The International Union of Crystallography\n",
    "* **point_group:** Point group in Hermann‐Mauguin notation\n",
    "* **bandgap:** Energy band gap of this material\n",
    "* **is_gap_direct:** Is the material a direct gap\n",
    "* **is_metal:** Is the material metallic\n",
    "* **energy_per_atom:** Energy per atom in eV without vdW correction\n",
    "* **energy_vdw_per_atom:** Energy per atom in eV with vdW correction\n",
    "* **exfoliation_energy_per_atom:** Exfoliation energy of the 2D material in eV/atom\n",
    "* **decomposition_energy_per_atom:** Decomposition energy of the 2D material in eV/atom\n",
    "* **total_magnetization:** Total magnetic moment in μB\n",
    "* **nelements:** The number of elements in the material\n",
    "* **structure**: An alias for final_structure\n",
    "* **is_hubbard:** A boolean indicating whether the structure was calculated using the Hubbard U extension to DFT\n",
    "* **hubbards:** An array of Hubbard U values (where applicable)\n",
    "* **band_gap:** calculated band gap"
   ]
  },
  {
   "cell_type": "markdown",
   "metadata": {},
   "source": [
    "### Histogram of bandgaps"
   ]
  },
  {
   "cell_type": "code",
   "execution_count": null,
   "metadata": {},
   "outputs": [],
   "source": [
    "ax=materials_df['bandgap'].hist(figsize=(10,6))\n",
    "ax.set_xlabel('bandgap (eV)');"
   ]
  },
  {
   "cell_type": "markdown",
   "metadata": {},
   "source": [
    "### Histogram of number of elements"
   ]
  },
  {
   "cell_type": "code",
   "execution_count": null,
   "metadata": {},
   "outputs": [],
   "source": [
    "ax=materials_df['nelements'].hist(figsize=(10,6))\n",
    "ax.set_xlabel('number of atomic species');"
   ]
  },
  {
   "cell_type": "markdown",
   "metadata": {},
   "source": [
    "### Most common anonynous formula of binary compounts"
   ]
  },
  {
   "cell_type": "code",
   "execution_count": null,
   "metadata": {},
   "outputs": [],
   "source": [
    "x=materials_df['formula_anonymous'].where(materials_df['nelements'] == 2).value_counts()[:10].plot(kind='bar',figsize=(10,6))"
   ]
  },
  {
   "cell_type": "markdown",
   "metadata": {},
   "source": [
    "### Most common crystal systems"
   ]
  },
  {
   "cell_type": "code",
   "execution_count": null,
   "metadata": {},
   "outputs": [],
   "source": [
    "ax=materials_df['crystal_system'].value_counts()[:10].plot(kind='bar',figsize=(10,6))"
   ]
  },
  {
   "cell_type": "markdown",
   "metadata": {},
   "source": [
    "### Most common spacegroups"
   ]
  },
  {
   "cell_type": "code",
   "execution_count": null,
   "metadata": {},
   "outputs": [],
   "source": [
    "ax=materials_df['sg_symbol'].value_counts()[:10].plot(kind='bar',figsize=(10,6))"
   ]
  },
  {
   "cell_type": "markdown",
   "metadata": {},
   "source": [
    "## Materials Project"
   ]
  },
  {
   "cell_type": "code",
   "execution_count": 6,
   "metadata": {},
   "outputs": [],
   "source": [
    "import pandas as pd\n",
    "import json\n",
    "import requests\n",
    "import time\n",
    "import datetime\n",
    "from pymatgen import MPRester\n",
    "from pymatgen.electronic_structure.plotter import DosPlotter, BSPlotter"
   ]
  },
  {
   "cell_type": "code",
   "execution_count": 7,
   "metadata": {},
   "outputs": [],
   "source": [
    "def to_dict(obj):\n",
    "    return json.dumps(obj, default=lambda o: o.__dict__)"
   ]
  },
  {
   "cell_type": "code",
   "execution_count": 42,
   "metadata": {},
   "outputs": [],
   "source": [
    "API_KEY='CQATWb1bqlsqMz46Af'\n",
    "USER_AGENT='Mozilla/5.0 (Windows NT 10.0; Win64; x64) AppleWebKit/537.36 (KHTML, like Gecko) Chrome/74.0.3729.169 Safari/537.36'\n",
    "baseurl = 'https://www.materialsproject.org/rest/v2/materials/%s'%('mp-6367')"
   ]
  },
  {
   "cell_type": "code",
   "execution_count": 61,
   "metadata": {},
   "outputs": [],
   "source": [
    "sample_mpid=['mp-1291','mp-6367','mp-541912','mp-23196','mp-22510']"
   ]
  },
  {
   "cell_type": "code",
   "execution_count": 106,
   "metadata": {},
   "outputs": [
    {
     "data": {
      "text/plain": [
       "4"
      ]
     },
     "execution_count": 106,
     "metadata": {},
     "output_type": "execute_result"
    }
   ],
   "source": [
    "output=[]\n",
    "for id in sample_mpid:\n",
    "    baseurl = 'https://www.materialsproject.org/rest/v2/materials/%s'%(id)\n",
    "    try:\n",
    "        response = requests.get(baseurl+'/doc',headers={'x-api-key':API_KEY,'User-Agent':USER_AGENT}).json()\n",
    "        mp_json = response['response']\n",
    "    except KeyError:\n",
    "        m = MPRester(API_KEY)\n",
    "        data = m.get_data(id)\n",
    "        mp_json = to_dict(data)\n",
    "    if mp_json!='[]': \n",
    "        output.append(mp_json)\n",
    "\n",
    "len(output)"
   ]
  },
  {
   "cell_type": "code",
   "execution_count": 107,
   "metadata": {},
   "outputs": [],
   "source": [
    "series_list=[]\n",
    "for each in output:\n",
    "    series_list.append(pd.Series(each))"
   ]
  },
  {
   "cell_type": "code",
   "execution_count": 113,
   "metadata": {},
   "outputs": [
    {
     "data": {
      "text/html": [
       "<div>\n",
       "<style scoped>\n",
       "    .dataframe tbody tr th:only-of-type {\n",
       "        vertical-align: middle;\n",
       "    }\n",
       "\n",
       "    .dataframe tbody tr th {\n",
       "        vertical-align: top;\n",
       "    }\n",
       "\n",
       "    .dataframe thead th {\n",
       "        text-align: right;\n",
       "    }\n",
       "</style>\n",
       "<table border=\"1\" class=\"dataframe\">\n",
       "  <thead>\n",
       "    <tr style=\"text-align: right;\">\n",
       "      <th></th>\n",
       "      <th>_id</th>\n",
       "      <th>anonymous_formula</th>\n",
       "      <th>band_gap</th>\n",
       "      <th>blessed_tasks</th>\n",
       "      <th>bv_structure</th>\n",
       "      <th>chemsys</th>\n",
       "      <th>cif</th>\n",
       "      <th>cifs</th>\n",
       "      <th>cohesive_energy</th>\n",
       "      <th>cpu_time</th>\n",
       "      <th>...</th>\n",
       "      <th>exp</th>\n",
       "      <th>exp_lattice</th>\n",
       "      <th>elasticity</th>\n",
       "      <th>piezo</th>\n",
       "      <th>diel</th>\n",
       "      <th>phonons</th>\n",
       "      <th>doi</th>\n",
       "      <th>doi_bibtex</th>\n",
       "      <th>external_data</th>\n",
       "      <th>sbxd</th>\n",
       "    </tr>\n",
       "  </thead>\n",
       "  <tbody>\n",
       "    <tr>\n",
       "      <th>0</th>\n",
       "      <td>5eead265cd0446b0db7f6b21</td>\n",
       "      <td>{'A': 1.0, 'B': 3.0}</td>\n",
       "      <td>0.0000</td>\n",
       "      <td>{'GGA NSCF Uniform': 'mp-930624', 'GGA Static'...</td>\n",
       "      <td>None</td>\n",
       "      <td>Er-In</td>\n",
       "      <td># generated using pymatgen\\ndata_ErIn3\\n_symme...</td>\n",
       "      <td>{'primitive': '# generated using pymatgen\n",
       "data...</td>\n",
       "      <td>None</td>\n",
       "      <td>None</td>\n",
       "      <td>...</td>\n",
       "      <td>{'tags': ['Erbium indium (1/3)']}</td>\n",
       "      <td>None</td>\n",
       "      <td>{'G_Reuss': 20.0, 'G_VRH': 20.0, 'G_Voigt': 20...</td>\n",
       "      <td>None</td>\n",
       "      <td>None</td>\n",
       "      <td>None</td>\n",
       "      <td>10.17188/1189262</td>\n",
       "      <td>@misc{osti_1189262,\\n    author = \"Persson, Kr...</td>\n",
       "      <td>None</td>\n",
       "      <td>[{'e_above_hull': 0, 'id': 'core'}]</td>\n",
       "    </tr>\n",
       "    <tr>\n",
       "      <th>1</th>\n",
       "      <td>5eead16ecd0446b0db7e585e</td>\n",
       "      <td>{'A': 1.0, 'B': 1.0, 'C': 1.0}</td>\n",
       "      <td>1.4867</td>\n",
       "      <td>{'GGA NSCF Uniform': 'mp-687454', 'GGA Static'...</td>\n",
       "      <td>None</td>\n",
       "      <td>Br-N-Zr</td>\n",
       "      <td># generated using pymatgen\\ndata_ZrBrN\\n_symme...</td>\n",
       "      <td>{'primitive': '# generated using pymatgen\n",
       "data...</td>\n",
       "      <td>None</td>\n",
       "      <td>None</td>\n",
       "      <td>...</td>\n",
       "      <td>{'tags': []}</td>\n",
       "      <td>None</td>\n",
       "      <td>None</td>\n",
       "      <td>None</td>\n",
       "      <td>None</td>\n",
       "      <td>None</td>\n",
       "      <td>10.17188/1266312</td>\n",
       "      <td>@misc{osti_1266312,\\n    author = \"Persson, Kr...</td>\n",
       "      <td>None</td>\n",
       "      <td>[{'e_above_hull': 0, 'id': 'core'}]</td>\n",
       "    </tr>\n",
       "    <tr>\n",
       "      <th>2</th>\n",
       "      <td>5eeac94ecd0446b0db759e42</td>\n",
       "      <td>{'A': 3.0, 'B': 4.0}</td>\n",
       "      <td>0.0000</td>\n",
       "      <td>{'GGA NSCF Uniform': 'mp-941116', 'GGA Static'...</td>\n",
       "      <td>None</td>\n",
       "      <td>Bi-U</td>\n",
       "      <td># generated using pymatgen\\ndata_U3Bi4\\n_symme...</td>\n",
       "      <td>{'primitive': '# generated using pymatgen\n",
       "data...</td>\n",
       "      <td>None</td>\n",
       "      <td>None</td>\n",
       "      <td>...</td>\n",
       "      <td>{'tags': ['Uranium bismuthide (3/4)', 'Bismuth...</td>\n",
       "      <td>None</td>\n",
       "      <td>None</td>\n",
       "      <td>None</td>\n",
       "      <td>None</td>\n",
       "      <td>None</td>\n",
       "      <td>10.17188/1199316</td>\n",
       "      <td>@misc{osti_1199316,\\n    author = \"Persson, Kr...</td>\n",
       "      <td>None</td>\n",
       "      <td>[{'e_above_hull': 0.07331308000000014, 'decomp...</td>\n",
       "    </tr>\n",
       "    <tr>\n",
       "      <th>3</th>\n",
       "      <td>5eeab7a4cd0446b0db653a76</td>\n",
       "      <td>{'A': 1.0, 'B': 1.0}</td>\n",
       "      <td>0.0000</td>\n",
       "      <td>{'GGA NSCF Uniform': 'mp-925682', 'GGA Static'...</td>\n",
       "      <td>None</td>\n",
       "      <td>Fe-Ge</td>\n",
       "      <td># generated using pymatgen\\ndata_FeGe\\n_symmet...</td>\n",
       "      <td>{'primitive': '# generated using pymatgen\n",
       "data...</td>\n",
       "      <td>None</td>\n",
       "      <td>None</td>\n",
       "      <td>...</td>\n",
       "      <td>{'tags': ['Iron germanide (1/1)']}</td>\n",
       "      <td>None</td>\n",
       "      <td>{'G_Reuss': 74.0, 'G_VRH': 76.0, 'G_Voigt': 78...</td>\n",
       "      <td>None</td>\n",
       "      <td>None</td>\n",
       "      <td>None</td>\n",
       "      <td>10.17188/1198752</td>\n",
       "      <td>@misc{osti_1198752,\\n    author = \"Persson, Kr...</td>\n",
       "      <td>None</td>\n",
       "      <td>[{'e_above_hull': 0.1135474933333338, 'decompo...</td>\n",
       "    </tr>\n",
       "  </tbody>\n",
       "</table>\n",
       "<p>4 rows × 75 columns</p>\n",
       "</div>"
      ],
      "text/plain": [
       "                        _id               anonymous_formula  band_gap  \\\n",
       "0  5eead265cd0446b0db7f6b21            {'A': 1.0, 'B': 3.0}    0.0000   \n",
       "1  5eead16ecd0446b0db7e585e  {'A': 1.0, 'B': 1.0, 'C': 1.0}    1.4867   \n",
       "2  5eeac94ecd0446b0db759e42            {'A': 3.0, 'B': 4.0}    0.0000   \n",
       "3  5eeab7a4cd0446b0db653a76            {'A': 1.0, 'B': 1.0}    0.0000   \n",
       "\n",
       "                                       blessed_tasks bv_structure  chemsys  \\\n",
       "0  {'GGA NSCF Uniform': 'mp-930624', 'GGA Static'...         None    Er-In   \n",
       "1  {'GGA NSCF Uniform': 'mp-687454', 'GGA Static'...         None  Br-N-Zr   \n",
       "2  {'GGA NSCF Uniform': 'mp-941116', 'GGA Static'...         None     Bi-U   \n",
       "3  {'GGA NSCF Uniform': 'mp-925682', 'GGA Static'...         None    Fe-Ge   \n",
       "\n",
       "                                                 cif  \\\n",
       "0  # generated using pymatgen\\ndata_ErIn3\\n_symme...   \n",
       "1  # generated using pymatgen\\ndata_ZrBrN\\n_symme...   \n",
       "2  # generated using pymatgen\\ndata_U3Bi4\\n_symme...   \n",
       "3  # generated using pymatgen\\ndata_FeGe\\n_symmet...   \n",
       "\n",
       "                                                cifs cohesive_energy cpu_time  \\\n",
       "0  {'primitive': '# generated using pymatgen\n",
       "data...            None     None   \n",
       "1  {'primitive': '# generated using pymatgen\n",
       "data...            None     None   \n",
       "2  {'primitive': '# generated using pymatgen\n",
       "data...            None     None   \n",
       "3  {'primitive': '# generated using pymatgen\n",
       "data...            None     None   \n",
       "\n",
       "   ...                                                exp exp_lattice  \\\n",
       "0  ...                  {'tags': ['Erbium indium (1/3)']}        None   \n",
       "1  ...                                       {'tags': []}        None   \n",
       "2  ...  {'tags': ['Uranium bismuthide (3/4)', 'Bismuth...        None   \n",
       "3  ...                 {'tags': ['Iron germanide (1/1)']}        None   \n",
       "\n",
       "                                          elasticity  piezo  diel  phonons  \\\n",
       "0  {'G_Reuss': 20.0, 'G_VRH': 20.0, 'G_Voigt': 20...   None  None     None   \n",
       "1                                               None   None  None     None   \n",
       "2                                               None   None  None     None   \n",
       "3  {'G_Reuss': 74.0, 'G_VRH': 76.0, 'G_Voigt': 78...   None  None     None   \n",
       "\n",
       "                doi                                         doi_bibtex  \\\n",
       "0  10.17188/1189262  @misc{osti_1189262,\\n    author = \"Persson, Kr...   \n",
       "1  10.17188/1266312  @misc{osti_1266312,\\n    author = \"Persson, Kr...   \n",
       "2  10.17188/1199316  @misc{osti_1199316,\\n    author = \"Persson, Kr...   \n",
       "3  10.17188/1198752  @misc{osti_1198752,\\n    author = \"Persson, Kr...   \n",
       "\n",
       "   external_data                                               sbxd  \n",
       "0           None                [{'e_above_hull': 0, 'id': 'core'}]  \n",
       "1           None                [{'e_above_hull': 0, 'id': 'core'}]  \n",
       "2           None  [{'e_above_hull': 0.07331308000000014, 'decomp...  \n",
       "3           None  [{'e_above_hull': 0.1135474933333338, 'decompo...  \n",
       "\n",
       "[4 rows x 75 columns]"
      ]
     },
     "execution_count": 113,
     "metadata": {},
     "output_type": "execute_result"
    }
   ],
   "source": [
    "sample_df=pd.DataFrame(series_list)\n",
    "sample_df.head()"
   ]
  },
  {
   "cell_type": "code",
   "execution_count": 112,
   "metadata": {},
   "outputs": [
    {
     "data": {
      "text/plain": [
       "Index(['_id', 'anonymous_formula', 'band_gap', 'blessed_tasks', 'bv_structure',\n",
       "       'chemsys', 'cif', 'cifs', 'cohesive_energy', 'cpu_time', 'created_at',\n",
       "       'decomposes_to', 'delta_volume', 'density', 'deprecated',\n",
       "       'e_above_hull', 'efermi', 'elements', 'encut', 'final_energy',\n",
       "       'final_energy_per_atom', 'formation_energy_per_atom', 'full_formula',\n",
       "       'has', 'has_bandstructure', 'hubbards', 'icsd_id', 'icsd_ids',\n",
       "       'initial_structure', 'input', 'ionic_steps', 'is_compatible',\n",
       "       'is_hubbard', 'is_ordered', 'magnetic_type', 'nelements', 'nkpts',\n",
       "       'nsites', 'ntask_ids', 'original_task_id', 'oxide_type',\n",
       "       'pretty_formula', 'pseudo_potential', 'reduced_cell_formula',\n",
       "       'run_stats', 'run_type', 'snl', 'snl_final', 'snlgroup_changed',\n",
       "       'snlgroup_id', 'snlgroup_id_final', 'spacegroup', 'structure',\n",
       "       'task_id', 'task_ids', 'total_magnetization', 'unit_cell_formula',\n",
       "       'updated_at', 'volume', 'warnings', 'xrd', 'band_structure_uniform',\n",
       "       'dos', 'band_structure', 'static', 'exp', 'exp_lattice', 'elasticity',\n",
       "       'piezo', 'diel', 'phonons', 'doi', 'doi_bibtex', 'external_data',\n",
       "       'sbxd'],\n",
       "      dtype='object')"
      ]
     },
     "execution_count": 112,
     "metadata": {},
     "output_type": "execute_result"
    }
   ],
   "source": [
    "sample_df.columns"
   ]
  },
  {
   "cell_type": "code",
   "execution_count": 114,
   "metadata": {},
   "outputs": [
    {
     "data": {
      "text/plain": [
       "Index(['sg_number', 'formula_pretty', 'nelements', 'creation_task_label',\n",
       "       'chemsys', 'discovery_process', 'formula_reduced_abc', 'sg_symbol',\n",
       "       'formula_anonymous', 'source_id', 'elements', 'structure',\n",
       "       'bandgap_orig', 'energy_vdw_per_atom_orig', 'magnetism',\n",
       "       'total_magnetization', 'energy_per_atom_orig', 'relative_id',\n",
       "       'decomposition_energy', 'exfoliation_energy_per_atom', 'literature_doi',\n",
       "       'bandgap', 'cbm', 'vbm', 'is_gap_direct', 'is_metal', 'is_hubbard',\n",
       "       'hubbards', 'potcar_spec', 'symbol', 'number', 'point_group', 'source',\n",
       "       'crystal_system', 'hall', 'energy_vdw', 'energy_vdw_per_atom', 'energy',\n",
       "       'energy_per_atom'],\n",
       "      dtype='object')"
      ]
     },
     "execution_count": 114,
     "metadata": {},
     "output_type": "execute_result"
    }
   ],
   "source": [
    "materials_df.columns"
   ]
  },
  {
   "cell_type": "markdown",
   "metadata": {},
   "source": [
    "#### Common Columns (Fields)"
   ]
  },
  {
   "cell_type": "code",
   "execution_count": 115,
   "metadata": {},
   "outputs": [
    {
     "data": {
      "text/plain": [
       "{'chemsys',\n",
       " 'elements',\n",
       " 'hubbards',\n",
       " 'is_hubbard',\n",
       " 'nelements',\n",
       " 'structure',\n",
       " 'total_magnetization'}"
      ]
     },
     "execution_count": 115,
     "metadata": {},
     "output_type": "execute_result"
    }
   ],
   "source": [
    "set(materials_df.columns).intersection(set(sample_df.columns))"
   ]
  }
 ],
 "metadata": {
  "kernelspec": {
   "display_name": "Python 3",
   "language": "python",
   "name": "python3"
  },
  "language_info": {
   "codemirror_mode": {
    "name": "ipython",
    "version": 3
   },
   "file_extension": ".py",
   "mimetype": "text/x-python",
   "name": "python",
   "nbconvert_exporter": "python",
   "pygments_lexer": "ipython3",
   "version": "3.7.3"
  }
 },
 "nbformat": 4,
 "nbformat_minor": 4
}
